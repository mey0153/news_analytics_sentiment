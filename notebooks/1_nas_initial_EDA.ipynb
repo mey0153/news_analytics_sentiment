{
 "cells": [
  {
   "cell_type": "markdown",
   "metadata": {},
   "source": [
    "# Sentiment Analysis of News Headlines"
   ]
  },
  {
   "cell_type": "markdown",
   "metadata": {},
   "source": [
    "## Contents\n",
    "- Import data\n",
    "- Initial data exploration"
   ]
  },
  {
   "cell_type": "markdown",
   "metadata": {},
   "source": [
    "## News Category Dataset\n",
    "\n",
    "This dataset contains around 200k news headlines from the year 2012 to 2018 obtained from HuffPost. The model trained on this dataset could be used to identify tags for untracked news articles or to identify the type of language used in different news articles.\n",
    "\n",
    "Applications of deep learning for text data:\n",
    "\n",
    "Document classification\n",
    "Articles lebelling\n",
    "Sentiment analysis\n",
    "Author identification\n",
    "Question-answering\n",
    "Language detection\n",
    "Translation Tasks\n",
    "\n",
    "Sources: \n",
    "- [News Category Dataset](https://www.kaggle.com/datasets/rmisra/news-category-dataset?resource=download)\n",
    "- [[NLP]News_articles_classif (Wordembeddings&RNN)](https://www.kaggle.com/code/avikumart/nlp-news-articles-classif-wordembeddings-rnn)"
   ]
  },
  {
   "cell_type": "code",
   "execution_count": null,
   "metadata": {},
   "outputs": [],
   "source": [
    "# Import modules"
   ]
  },
  {
   "cell_type": "code",
   "execution_count": null,
   "metadata": {},
   "outputs": [],
   "source": [
    "# Import data"
   ]
  }
 ],
 "metadata": {
  "language_info": {
   "name": "python"
  },
  "orig_nbformat": 4
 },
 "nbformat": 4,
 "nbformat_minor": 2
}
